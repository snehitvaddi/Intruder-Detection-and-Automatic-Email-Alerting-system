{
 "cells": [
  {
   "cell_type": "markdown",
   "metadata": {},
   "source": [
    "# Intruder Detection using Deep Learning version 2 \n",
    "Referenced from :\n",
    "https://github.com/ageitgey/face_recognition/blob/master/examples/facerec_from_webcam.py"
   ]
  },
  {
   "cell_type": "markdown",
   "metadata": {},
   "source": [
    "### Here we use face_recognition python module. This module runs upon dlib a c++ based library.\n",
    "#### It consists of 4 steps.\n",
    "* Step-1 : Encode the picture using the HOG algorithm to create a simplified version of the image. \n",
    "* Step-2 : Finding the main landmarks in the face like nose, mouth and ears.\n",
    "* Step-3 : Encoding Faces. Here we use a pre-trained Convolution Neural Network developed by OpenFace.\n",
    "* Step-4 : Finding the person’s name from the encoding.Compare which person has the closest measurements to our face’s measurements."
   ]
  },
  {
   "cell_type": "code",
   "execution_count": 2,
   "metadata": {},
   "outputs": [
    {
     "data": {
      "application/javascript": [
       "if (window.IPython && IPython.notebook.kernel) IPython.notebook.kernel.execute('jovian.utils.jupyter.get_notebook_name_saved = lambda: \"' + IPython.notebook.notebook_name + '\"')"
      ],
      "text/plain": [
       "<IPython.core.display.Javascript object>"
      ]
     },
     "metadata": {},
     "output_type": "display_data"
    }
   ],
   "source": [
    "import glob\n",
    "import face_recognition\n",
    "import cv2\n",
    "import numpy as np\n",
    "import jovian"
   ]
  },
  {
   "cell_type": "markdown",
   "metadata": {},
   "source": [
    "### Data Set Understanding "
   ]
  },
  {
   "cell_type": "code",
   "execution_count": 3,
   "metadata": {},
   "outputs": [
    {
     "name": "stdout",
     "output_type": "stream",
     "text": [
      "['bill gates']\n",
      "['bill gates', 'donald trump']\n",
      "['bill gates', 'donald trump', 'elon musk']\n",
      "['bill gates', 'donald trump', 'elon musk', 'jeff bezos']\n",
      "['bill gates', 'donald trump', 'elon musk', 'jeff bezos', 'obama']\n",
      "['bill gates', 'donald trump', 'elon musk', 'jeff bezos', 'obama', 'snehit2']\n"
     ]
    }
   ],
   "source": [
    "paths = glob.glob('C:\\\\Users\\\\vsneh\\\\Udemy-notebooks\\\\face_rec_mod_testing\\\\data\\\\*')\n",
    "names = []\n",
    "images = []\n",
    "image_encodings = []\n",
    "image_names = []\n",
    "count_img = 0\n",
    "for i in paths:\n",
    "    images.append(face_recognition.load_image_file(i))\n",
    "    image_encodings.append(face_recognition.face_encodings(images[count_img])[0])\n",
    "    image_names.append(i.split('\\\\')[-1].split('.')[0])\n",
    "    count_img+=1\n",
    "    print(image_names)\n"
   ]
  },
  {
   "cell_type": "markdown",
   "metadata": {},
   "source": [
    "## Data encoding, Training and detecting"
   ]
  },
  {
   "cell_type": "code",
   "execution_count": 4,
   "metadata": {},
   "outputs": [],
   "source": [
    "count = 0\n",
    "cap = cv2.VideoCapture(0)\n",
    "while True:\n",
    "    ret,frame = cap.read()\n",
    "    gray = frame[:, :, ::-1]\n",
    "    face_locations = face_recognition.face_locations(gray)\n",
    "    face_encodings = face_recognition.face_encodings(gray, face_locations)\n",
    "    for (top, right, bottom, left), face_encoding in zip(face_locations, face_encodings):\n",
    "        matches = face_recognition.compare_faces(image_encodings, face_encoding)\n",
    "        name = 'Unknown'\n",
    "        face_distances = face_recognition.face_distance(image_encodings, face_encoding)\n",
    "        best_match_index = np.argmin(face_distances)\n",
    "        if matches[best_match_index]:\n",
    "            name = image_names[best_match_index]\n",
    "        if(name=='Unknown'):\n",
    "            cv2.imwrite('C:\\\\Users\\\\vsneh\\\\Udemy-notebooks\\\\face_rec_mod_testing\\\\intruders\\\\intru-{}.jpg'.format(count),frame)\n",
    "            count+=1\n",
    "        cv2.rectangle(frame, (left, top), (right, bottom), (0, 0, 255), 3)\n",
    "        font = cv2.FONT_HERSHEY_DUPLEX\n",
    "        cv2.putText(frame, name, (left + 6, bottom - 6), font, 1.0, (255, 255, 255), 1)\n",
    "    cv2.imshow(\"output\",frame)\n",
    "    if(cv2.waitKey(1)==ord('q')):\n",
    "        break\n",
    "cap.release()\n",
    "cv2.destroyAllWindows()"
   ]
  },
  {
   "cell_type": "markdown",
   "metadata": {},
   "source": [
    "## Email Image selection(optional)"
   ]
  },
  {
   "cell_type": "code",
   "execution_count": null,
   "metadata": {},
   "outputs": [],
   "source": [
    "myPath = glob.glob('C:\\\\Users\\\\vsneh\\\\Udemy-notebooks\\\\face_rec_mod_testing\\\\intruders\\\\*')\n",
    "global countFolder\n",
    "count=0\n",
    "# if(len(myPath)<20):\n",
    "#     moduleVal = 2\n",
    "# else:\n",
    "#     moduleVal = 4\n",
    "for i in myPath:\n",
    "    img = cv2.imread(i)\n",
    "#     cap.set(3, 640)\n",
    "#     cap.set(4, 480)\n",
    "#     cap.set(10,180)\n",
    "    print(blur)\n",
    "    gray_img = cv2.cvtColor(img,cv2.COLOR_BGR2GRAY)\n",
    "    blur = cv2.Laplacian(gray_img, cv2.CV_64F).var()\n",
    "    if(count % 1 == 0 and blur > 320):\n",
    "        cv2.imwrite(\"C:\\\\Users\\\\vsneh\\\\Udemy-notebooks\\\\Opencv_facebk_auto_uplod\\\\saved\\\\pic-{}.jpg\".format(count), img)\n",
    "        count += 1\n",
    "    "
   ]
  },
  {
   "cell_type": "markdown",
   "metadata": {},
   "source": [
    "## Emailing of Intruder images"
   ]
  },
  {
   "cell_type": "code",
   "execution_count": 5,
   "metadata": {},
   "outputs": [
    {
     "data": {
      "text/plain": [
       "(250,\n",
       " b'smtp.gmail.com at your service, [175.101.108.71]\\nSIZE 35882577\\n8BITMIME\\nSTARTTLS\\nENHANCEDSTATUSCODES\\nPIPELINING\\nCHUNKING\\nSMTPUTF8')"
      ]
     },
     "execution_count": 5,
     "metadata": {},
     "output_type": "execute_result"
    }
   ],
   "source": [
    "import getpass\n",
    "import smtplib\n",
    "server = smtplib.SMTP('smtp.gmail.com',587)\n",
    "server.ehlo()\n"
   ]
  },
  {
   "cell_type": "code",
   "execution_count": 6,
   "metadata": {},
   "outputs": [
    {
     "data": {
      "text/plain": [
       "(220, b'2.0.0 Ready to start TLS')"
      ]
     },
     "execution_count": 6,
     "metadata": {},
     "output_type": "execute_result"
    }
   ],
   "source": [
    "server.starttls()"
   ]
  },
  {
   "cell_type": "code",
   "execution_count": 11,
   "metadata": {},
   "outputs": [
    {
     "name": "stdout",
     "output_type": "stream",
     "text": [
      "········\n"
     ]
    },
    {
     "data": {
      "text/plain": [
       "{}"
      ]
     },
     "execution_count": 11,
     "metadata": {},
     "output_type": "execute_result"
    }
   ],
   "source": [
    "username = 'v.snehith999@gmail.com'\n",
    "passwd = getpass.getpass()\n",
    "server.login(username,passwd)\n",
    "\n",
    "\n",
    "from email.mime.multipart import MIMEMultipart\n",
    "from email.mime.text import MIMEText\n",
    "from email.mime.application import MIMEApplication\n",
    "from datetime import datetime\n",
    "#  For advanced mails and attachment files. \n",
    "msg= MIMEMultipart()\n",
    "msg['from'] = username\n",
    "msg['to'] = username\n",
    "msg['subject'] = \"Images\"\n",
    "text = \"Check these sample unknown person images, if some thing *fishy!!* check intruder folder immediately\"\n",
    "msg.attach(MIMEText(text))\n",
    "F = glob.glob(\"C:\\\\Users\\\\vsneh\\\\Udemy-notebooks\\\\face_rec_mod_testing\\\\intruders\\\\*\")\n",
    "for i in F:\n",
    "    with open(i,'rb') as f:\n",
    "            part = MIMEApplication(f.read())\n",
    "            part.add_header('content-Disposition','attachment',filename='{}.jpg'.format(count+1))\n",
    "            msg.attach(part)\n",
    "server.sendmail(username,username,msg.as_string())\n",
    "\n",
    "## FOR SIMPLE TEXT\n",
    "# text = \"Link Intruder Images here\"\n",
    "# server.sendmail(username,username,text)"
   ]
  },
  {
   "cell_type": "code",
   "execution_count": null,
   "metadata": {},
   "outputs": [
    {
     "data": {
      "application/javascript": [
       "window.require && require([\"base/js/namespace\"],function(Jupyter){Jupyter.notebook.save_checkpoint()})"
      ],
      "text/plain": [
       "<IPython.core.display.Javascript object>"
      ]
     },
     "metadata": {},
     "output_type": "display_data"
    },
    {
     "name": "stdout",
     "output_type": "stream",
     "text": [
      "[jovian] Attempting to save notebook..\r\n"
     ]
    }
   ],
   "source": [
    "jovian.commit(project=\"intruder-detection-version2\")"
   ]
  },
  {
   "cell_type": "code",
   "execution_count": null,
   "metadata": {},
   "outputs": [],
   "source": []
  },
  {
   "cell_type": "code",
   "execution_count": null,
   "metadata": {},
   "outputs": [],
   "source": []
  }
 ],
 "metadata": {
  "kernelspec": {
   "display_name": "Python 3",
   "language": "python",
   "name": "python3"
  },
  "language_info": {
   "codemirror_mode": {
    "name": "ipython",
    "version": 3
   },
   "file_extension": ".py",
   "mimetype": "text/x-python",
   "name": "python",
   "nbconvert_exporter": "python",
   "pygments_lexer": "ipython3",
   "version": "3.7.5"
  }
 },
 "nbformat": 4,
 "nbformat_minor": 2
}
