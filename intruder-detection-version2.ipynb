{
 "cells": [
  {
   "cell_type": "markdown",
   "metadata": {},
   "source": [
    "# Intruder Detection using Deep Learning version 2 \n",
    "Referenced from :\n",
    "https://github.com/ageitgey/face_recognition/blob/master/examples/facerec_from_webcam.py"
   ]
  },
  {
   "cell_type": "markdown",
   "metadata": {},
   "source": [
    "### Here we use face_recognition python module. This module runs upon dlib a c++ based library.\n",
    "#### It consists of 4 steps.\n",
    "* Step-1 : Encode the picture using the HOG algorithm to create a simplified version of the image. \n",
    "* Step-2 : Finding the main landmarks in the face like nose, mouth and ears.\n",
    "* Step-3 : Encoding Faces. Here we use a pre-trained Convolution Neural Network developed by OpenFace.\n",
    "* Step-4 : Finding the person’s name from the encoding.Compare which person has the closest measurements to our face’s measurements."
   ]
  },
  {
   "cell_type": "code",
   "execution_count": 2,
   "metadata": {},
   "outputs": [
    {
     "data": {
      "application/javascript": "if (window.IPython && IPython.notebook.kernel) IPython.notebook.kernel.execute('jovian.utils.jupyter.get_notebook_name_saved = lambda: \"' + IPython.notebook.notebook_name + '\"')",
      "text/plain": [
       "<IPython.core.display.Javascript object>"
      ]
     },
     "metadata": {},
     "output_type": "display_data"
    }
   ],
   "source": [
    "import glob\n",
    "import face_recognition\n",
    "import cv2\n",
    "import numpy as np\n",
    "import jovian"
   ]
  },
  {
   "cell_type": "markdown",
   "metadata": {},
   "source": [
    "### Data Set Understanding "
   ]
  },
  {
   "cell_type": "code",
   "execution_count": 3,
   "metadata": {},
   "outputs": [
    {
     "name": "stdout",
     "output_type": "stream",
     "text": [
      "['bill gates']\n",
      "['bill gates', 'donald trump']\n",
      "['bill gates', 'donald trump', 'elon musk']\n",
      "['bill gates', 'donald trump', 'elon musk', 'jeff bezos']\n",
      "['bill gates', 'donald trump', 'elon musk', 'jeff bezos', 'obama']\n",
      "['bill gates', 'donald trump', 'elon musk', 'jeff bezos', 'obama', 'snehit2']\n"
     ]
    }
   ],
   "source": [
    "paths = glob.glob('C:\\\\Users\\\\vsneh\\\\Udemy-notebooks\\\\face_rec_mod_testing\\\\data\\\\*')\n",
    "names = []\n",
    "images = []\n",
    "image_encodings = []\n",
    "image_names = []\n",
    "count_img = 0\n",
    "for i in paths:\n",
    "    images.append(face_recognition.load_image_file(i))\n",
    "    image_encodings.append(face_recognition.face_encodings(images[count_img])[0])\n",
    "    image_names.append(i.split('\\\\')[-1].split('.')[0])\n",
    "    count_img+=1\n",
    "    print(image_names[-1])\n"
   ]
  },
  {
   "cell_type": "markdown",
   "metadata": {},
   "source": [
    "## Data encoding, Training and detecting"
   ]
  },
  {
   "cell_type": "markdown",
   "metadata": {},
   "source": [
    "## Email Image selection(optional)"
   ]
  },
  {
   "cell_type": "markdown",
   "metadata": {},
   "source": [
    "## Emailing of Intruder images"
   ]
  },
  {
   "cell_type": "code",
   "execution_count": null,
   "metadata": {},
   "outputs": [],
   "source": []
  },
  {
   "cell_type": "markdown",
   "metadata": {},
   "source": [
    "### I made the code private due to privacy concerns.\n",
    "#### Ping me @v.snehith999@gmail.com to get the code😊"
   ]
  },
  {
   "cell_type": "code",
   "execution_count": null,
   "metadata": {},
   "outputs": [],
   "source": []
  }
 ],
 "metadata": {
  "kernelspec": {
   "display_name": "Python 3",
   "language": "python",
   "name": "python3"
  },
  "language_info": {
   "codemirror_mode": {
    "name": "ipython",
    "version": 3
   },
   "file_extension": ".py",
   "mimetype": "text/x-python",
   "name": "python",
   "nbconvert_exporter": "python",
   "pygments_lexer": "ipython3",
   "version": "3.7.5"
  }
 },
 "nbformat": 4,
 "nbformat_minor": 2
}
