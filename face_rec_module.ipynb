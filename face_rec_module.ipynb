{
 "cells": [
  {
   "cell_type": "code",
   "execution_count": null,
   "metadata": {},
   "outputs": [],
   "source": [
    "import face_recognition as fr\n",
    "import os\n",
    "import cv2\n",
    "import face_recognition\n",
    "import numpy as np\n",
    "from time import sleep\n",
    "\n",
    "\n",
    "def get_encoded_faces():\n",
    "    \"\"\"\n",
    "    looks through the faces folder and encodes all\n",
    "    the faces\n",
    "\n",
    "    :return: dict of (name, image encoded)\n",
    "    \"\"\"\n",
    "    encoded = {}\n",
    "\n",
    "    for dirpath, dnames, fnames in os.walk(\"./faces\"):\n",
    "        for f in fnames:\n",
    "            if f.endswith(\".jpg\") or f.endswith(\".png\"):\n",
    "                face = fr.load_image_file(\"faces/\" + f)\n",
    "                encoding = fr.face_encodings(face)[0]\n",
    "                encoded[f.split(\".\")[0]] = encoding\n",
    "\n",
    "    return encoded\n",
    "\n",
    "\n",
    "def unknown_image_encoded(img):\n",
    "    \"\"\"\n",
    "    encode a face given the file name\n",
    "    \"\"\"\n",
    "    face = fr.load_image_file(\"faces/\" + img)\n",
    "    encoding = fr.face_encodings(face)[0]\n",
    "\n",
    "    return encoding\n",
    "\n",
    "\n",
    "def classify_face(im):\n",
    "    \"\"\"\n",
    "    will find all of the faces in a given image and label\n",
    "    them if it knows what they are\n",
    "\n",
    "    :param im: str of file path\n",
    "    :return: list of face names\n",
    "    \"\"\"\n",
    "    faces = get_encoded_faces()\n",
    "    faces_encoded = list(faces.values())\n",
    "    known_face_names = list(faces.keys())\n",
    "\n",
    "    img = cv2.imread(im, 1)\n",
    "    #img = cv2.resize(img, (0, 0), fx=0.5, fy=0.5)\n",
    "    #img = img[:,:,::-1]\n",
    " \n",
    "    face_locations = face_recognition.face_locations(img)\n",
    "    unknown_face_encodings = face_recognition.face_encodings(img, face_locations)\n",
    "\n",
    "    face_names = []\n",
    "    for face_encoding in unknown_face_encodings:\n",
    "        # See if the face is a match for the known face(s)\n",
    "        matches = face_recognition.compare_faces(faces_encoded, face_encoding)\n",
    "        name = \"Unknown\"\n",
    "\n",
    "        # use the known face with the smallest distance to the new face\n",
    "        face_distances = face_recognition.face_distance(faces_encoded, face_encoding)\n",
    "        best_match_index = np.argmin(face_distances)\n",
    "        if matches[best_match_index]:\n",
    "            name = known_face_names[best_match_index]\n",
    "\n",
    "        face_names.append(name)\n",
    "\n",
    "        for (top, right, bottom, left), name in zip(face_locations, face_names):\n",
    "            # Draw a box around the face\n",
    "            cv2.rectangle(img, (left-20, top-20), (right+20, bottom+20), (255, 0, 0), 2)\n",
    "\n",
    "            # Draw a label with a name below the face\n",
    "            cv2.rectangle(img, (left-20, bottom -15), (right+20, bottom+20), (255, 0, 0), cv2.FILLED)\n",
    "            font = cv2.FONT_HERSHEY_DUPLEX\n",
    "            cv2.putText(img, name, (left -20, bottom + 15), font, 1.0, (255, 255, 255), 2)\n",
    "\n",
    "\n",
    "    # Display the resulting image\n",
    "    while True:\n",
    "\n",
    "        cv2.imshow('Video', img)\n",
    "        if cv2.waitKey(1) & 0xFF == ord('q'):\n",
    "            return face_names \n",
    "\n",
    "\n",
    "print(classify_face(\"test.jpg\"))\n",
    "\n",
    "\n"
   ]
  },
  {
   "cell_type": "code",
   "execution_count": null,
   "metadata": {},
   "outputs": [],
   "source": [
    "import face_recognition as fr"
   ]
  },
  {
   "cell_type": "code",
   "execution_count": null,
   "metadata": {},
   "outputs": [],
   "source": [
    "fr.__file__"
   ]
  },
  {
   "cell_type": "code",
   "execution_count": null,
   "metadata": {},
   "outputs": [],
   "source": [
    "face = fr.load_image_file(\"out.jpg\")\n",
    "encoding = fr.face_encodings(face)[0]\n",
    "print(encoding)"
   ]
  },
  {
   "cell_type": "markdown",
   "metadata": {},
   "source": [
    "## Official Documentation"
   ]
  },
  {
   "cell_type": "code",
   "execution_count": null,
   "metadata": {},
   "outputs": [],
   "source": [
    "import face_recognition\n",
    "import cv2\n",
    "import numpy as np\n",
    "\n",
    "\n",
    "video_capture = cv2.VideoCapture(0)\n",
    "\n",
    "# Load a sample picture and learn how to recognize it.\n",
    "obama_image = face_recognition.load_image_file(\"obama.jpg\")\n",
    "obama_face_encoding = face_recognition.face_encodings(obama_image)[0]\n",
    "\n",
    "# Load a second sample picture and learn how to recognize it.\n",
    "biden_image = face_recognition.load_image_file(\"biden.jpg\")\n",
    "biden_face_encoding = face_recognition.face_encodings(biden_image)[0]\n",
    "\n",
    "# Create arrays of known face encodings and their names\n",
    "known_face_encodings = [\n",
    "    obama_face_encoding,\n",
    "    biden_face_encoding\n",
    "]\n",
    "known_face_names = [\n",
    "    \"Barack Obama\",\n",
    "    \"Joe Biden\"\n",
    "]\n",
    "\n",
    "# Initialize some variables\n",
    "face_locations = []\n",
    "face_encodings = []\n",
    "face_names = []\n",
    "process_this_frame = True\n",
    "\n",
    "while True:\n",
    "    # Grab a single frame of video\n",
    "    ret, frame = video_capture.read()\n",
    "\n",
    "    # Resize frame of video to 1/4 size for faster face recognition processing\n",
    "    small_frame = cv2.resize(frame, (0, 0), fx=0.25, fy=0.25)\n",
    "\n",
    "    # Convert the image from BGR color (which OpenCV uses) to RGB color (which face_recognition uses)\n",
    "    rgb_small_frame = small_frame[:, :, ::-1]\n",
    "\n",
    "    # Only process every other frame of video to save time\n",
    "    if process_this_frame:\n",
    "        # Find all the faces and face encodings in the current frame of video\n",
    "        face_locations = face_recognition.face_locations(rgb_small_frame)\n",
    "        face_encodings = face_recognition.face_encodings(rgb_small_frame, face_locations)\n",
    "\n",
    "        face_names = []\n",
    "        for face_encoding in face_encodings:\n",
    "            # See if the face is a match for the known face(s)\n",
    "            matches = face_recognition.compare_faces(known_face_encodings, face_encoding)\n",
    "            name = \"Unknown\"\n",
    "\n",
    "            # # If a match was found in known_face_encodings, just use the first one.\n",
    "            # if True in matches:\n",
    "            #     first_match_index = matches.index(True)\n",
    "            #     name = known_face_names[first_match_index]\n",
    "\n",
    "            # Or instead, use the known face with the smallest distance to the new face\n",
    "            face_distances = face_recognition.face_distance(known_face_encodings, face_encoding)\n",
    "            best_match_index = np.argmin(face_distances)\n",
    "            if matches[best_match_index]:\n",
    "                name = known_face_names[best_match_index]\n",
    "\n",
    "            face_names.append(name)\n",
    "\n",
    "    process_this_frame = not process_this_frame\n",
    "\n",
    "\n",
    "    # Display the results\n",
    "    for (top, right, bottom, left), name in zip(face_locations, face_names):\n",
    "        # Scale back up face locations since the frame we detected in was scaled to 1/4 size\n",
    "        top *= 4\n",
    "        right *= 4\n",
    "        bottom *= 4\n",
    "        left *= 4\n",
    "\n",
    "        # Draw a box around the face\n",
    "        cv2.rectangle(frame, (left, top), (right, bottom), (0, 0, 255), 2)\n",
    "\n",
    "        # Draw a label with a name below the face\n",
    "        cv2.rectangle(frame, (left, bottom - 35), (right, bottom), (0, 0, 255), cv2.FILLED)\n",
    "        font = cv2.FONT_HERSHEY_DUPLEX\n",
    "        cv2.putText(frame, name, (left + 6, bottom - 6), font, 1.0, (255, 255, 255), 1)\n",
    "\n",
    "    # Display the resulting image\n",
    "    cv2.imshow('Video', frame)\n",
    "\n",
    "    # Hit 'q' on the keyboard to quit!\n",
    "    if cv2.waitKey(1) & 0xFF == ord('q'):\n",
    "        break\n",
    "\n",
    "# Release handle to the webcam\n",
    "video_capture.release()\n",
    "cv2.destroyAllWindows()"
   ]
  },
  {
   "cell_type": "markdown",
   "metadata": {},
   "source": [
    "## Understanding Official Docs\n",
    "https://github.com/ageitgey/face_recognition/blob/master/examples/facerec_from_webcam.py"
   ]
  },
  {
   "cell_type": "code",
   "execution_count": 9,
   "metadata": {},
   "outputs": [
    {
     "data": {
      "application/javascript": [
       "if (window.IPython && IPython.notebook.kernel) IPython.notebook.kernel.execute('jovian.utils.jupyter.get_notebook_name_saved = lambda: \"' + IPython.notebook.notebook_name + '\"')"
      ],
      "text/plain": [
       "<IPython.core.display.Javascript object>"
      ]
     },
     "metadata": {},
     "output_type": "display_data"
    }
   ],
   "source": [
    "import glob\n",
    "import face_recognition\n",
    "import cv2\n",
    "import numpy as np\n",
    "import jovian"
   ]
  },
  {
   "cell_type": "code",
   "execution_count": 2,
   "metadata": {},
   "outputs": [],
   "source": [
    "paths = glob.glob('C:\\\\Users\\\\vsneh\\\\Udemy-notebooks\\\\face_rec_mod_testing\\\\data\\\\*')"
   ]
  },
  {
   "cell_type": "code",
   "execution_count": 3,
   "metadata": {},
   "outputs": [
    {
     "name": "stdout",
     "output_type": "stream",
     "text": [
      "bill gates\n",
      "donald trump\n",
      "elon musk\n",
      "jeff bezos\n",
      "obama\n",
      "snehit\n"
     ]
    }
   ],
   "source": [
    "names = []\n",
    "for i in paths:\n",
    "    img = i.split('\\\\')[-1].split('.')[0]\n",
    "    print(img)\n"
   ]
  },
  {
   "cell_type": "markdown",
   "metadata": {},
   "source": [
    "## Data Set Cleaning, encoding and Training "
   ]
  },
  {
   "cell_type": "code",
   "execution_count": 4,
   "metadata": {},
   "outputs": [
    {
     "name": "stdout",
     "output_type": "stream",
     "text": [
      "['bill gates']\n",
      "['bill gates', 'donald trump']\n",
      "['bill gates', 'donald trump', 'elon musk']\n",
      "['bill gates', 'donald trump', 'elon musk', 'jeff bezos']\n",
      "['bill gates', 'donald trump', 'elon musk', 'jeff bezos', 'obama']\n",
      "['bill gates', 'donald trump', 'elon musk', 'jeff bezos', 'obama', 'snehit']\n"
     ]
    }
   ],
   "source": [
    "images = []\n",
    "image_encodings = []\n",
    "image_names = []\n",
    "count_img = 0\n",
    "for i in paths:\n",
    "    images.append(face_recognition.load_image_file(i))\n",
    "    image_encodings.append(face_recognition.face_encodings(images[count_img])[0])\n",
    "    image_names.append(i.split('\\\\')[-1].split('.')[0])\n",
    "    count_img+=1\n",
    "    print(image_names)\n"
   ]
  },
  {
   "cell_type": "code",
   "execution_count": 8,
   "metadata": {},
   "outputs": [],
   "source": [
    "count = 0\n",
    "cap = cv2.VideoCapture(0)\n",
    "while True:\n",
    "    ret,frame = cap.read()\n",
    "    gray = frame[:, :, ::-1]\n",
    "    face_locations = face_recognition.face_locations(gray)\n",
    "    face_encodings = face_recognition.face_encodings(gray, face_locations)\n",
    "    for (top, right, bottom, left), face_encoding in zip(face_locations, face_encodings):\n",
    "        matches = face_recognition.compare_faces(image_encodings, face_encoding)\n",
    "        name = 'Unknown'\n",
    "        \n",
    "        face_distances = face_recognition.face_distance(image_encodings, face_encoding)\n",
    "        best_match_index = np.argmin(face_distances)\n",
    "        if matches[best_match_index]:\n",
    "            name = image_names[best_match_index]\n",
    "        else:\n",
    "            cv2.imwrite('C:\\\\Users\\\\vsneh\\\\Udemy-notebooks\\\\face_rec_mod_testing\\\\intruders\\\\intru-{}.jpg'.format(count),frame)\n",
    "            count+=1\n",
    "        cv2.rectangle(frame, (left, top), (right, bottom), (0, 0, 255), 2)\n",
    "\n",
    "        # Draw a label with a name below the face\n",
    "        cv2.rectangle(frame, (left, bottom - 35), (right, bottom), (0, 0, 255), cv2.FILLED)\n",
    "        font = cv2.FONT_HERSHEY_DUPLEX\n",
    "        cv2.putText(frame, name, (left + 6, bottom - 6), font, 1.0, (255, 255, 255), 1)\n",
    "    cv2.imshow(\"output\",frame)\n",
    "    if(cv2.waitKey(1)==ord('q')):\n",
    "        break\n",
    "cap.release()\n",
    "cv2.destroyAllWindows()"
   ]
  },
  {
   "cell_type": "code",
   "execution_count": null,
   "metadata": {},
   "outputs": [],
   "source": []
  },
  {
   "cell_type": "code",
   "execution_count": null,
   "metadata": {},
   "outputs": [],
   "source": []
  }
 ],
 "metadata": {
  "kernelspec": {
   "display_name": "Python 3",
   "language": "python",
   "name": "python3"
  },
  "language_info": {
   "codemirror_mode": {
    "name": "ipython",
    "version": 3
   },
   "file_extension": ".py",
   "mimetype": "text/x-python",
   "name": "python",
   "nbconvert_exporter": "python",
   "pygments_lexer": "ipython3",
   "version": "3.7.5"
  }
 },
 "nbformat": 4,
 "nbformat_minor": 2
}
